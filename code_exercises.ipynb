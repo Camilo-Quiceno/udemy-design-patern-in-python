{
 "cells": [
  {
   "attachments": {},
   "cell_type": "markdown",
   "metadata": {},
   "source": [
    "# Builder Coding Exercise"
   ]
  },
  {
   "cell_type": "code",
   "execution_count": 46,
   "metadata": {},
   "outputs": [
    {
     "name": "stdout",
     "output_type": "stream",
     "text": [
      "class Person:\n",
      "  pass\n"
     ]
    }
   ],
   "source": [
    "class Class:\n",
    "    indent_size = 2\n",
    "    \n",
    "    def __init__(self, type = \"\", name = \"\"):\n",
    "        self.type = type\n",
    "        self.name = str(name)\n",
    "        self.fields = []\n",
    "        self.fluent = False\n",
    "    \n",
    "    def __str(self, indent):\n",
    "        lines = []\n",
    "        \n",
    "        if self.name == \"\":\n",
    "            lines.append(\"class {}:\".format(self.type))\n",
    "            if self.fluent:\n",
    "                lines.append(\"  def __init__(self):\")\n",
    "            else:\n",
    "                lines.append(\"  pass\")\n",
    "            \n",
    "        if self.name:\n",
    "\n",
    "            i1 = ' ' * ((indent + 1) * self.indent_size)\n",
    "            lines.append(\"{}self.{} = {}\".format(i1, self.type, self.name))\n",
    "            \n",
    "        for e in self.fields:\n",
    "            lines.append(e.__str(indent + 1))\n",
    "        \n",
    "        return '\\n'.join(lines)\n",
    "    \n",
    "\n",
    "    def __str__(self):\n",
    "        return self.__str(0)\n",
    "    \n",
    "\n",
    "class CodeBuilder:\n",
    "    __root = Class()\n",
    "    def __init__(self, root_type):\n",
    "        self.__root.type = root_type\n",
    "\n",
    "    def add_field(self, type, name):\n",
    "        self.__root.fluent = True\n",
    "        self.__root.fields.append(\n",
    "            Class(type, name)\n",
    "        )\n",
    "        return self\n",
    "        \n",
    "    def __str__(self):\n",
    "        return str(self.__root)\n",
    "    \n",
    "cb = CodeBuilder('Person')\n",
    "print(cb)\n"
   ]
  },
  {
   "attachments": {},
   "cell_type": "markdown",
   "metadata": {},
   "source": [
    "# Factory Coding Exercise\n"
   ]
  },
  {
   "cell_type": "code",
   "execution_count": 27,
   "metadata": {},
   "outputs": [
    {
     "name": "stdout",
     "output_type": "stream",
     "text": [
      "id: 0, name: Camilo id: 1, name: Paulina\n"
     ]
    }
   ],
   "source": [
    "class Person:\n",
    "    def __init__(self, id, name):\n",
    "        self.id = id\n",
    "        self.name = name\n",
    "\n",
    "class PersonFactory:\n",
    "    id = -1\n",
    "    def create_person(self, name):\n",
    "        PersonFactory.id += 1\n",
    "        return Person(self.id, name)\n",
    "    \n",
    "p1 = PersonFactory().create_person('Camilo')\n",
    "p2 = PersonFactory().create_person('Paulina')\n",
    "print(p1, p2)"
   ]
  },
  {
   "attachments": {},
   "cell_type": "markdown",
   "metadata": {},
   "source": [
    "# Prototype Coding Exercise"
   ]
  },
  {
   "cell_type": "code",
   "execution_count": null,
   "metadata": {},
   "outputs": [],
   "source": [
    "class Point:\n",
    "    def __init__(self, x=0, y=0):\n",
    "        self.x = x\n",
    "        self.y = y\n",
    "\n",
    "class Line:\n",
    "    def __init__(self, start=Point(), end=Point()):\n",
    "        self.start = start\n",
    "        self.end = end\n",
    "\n",
    "    def deep_copy(self):\n",
    "        return copy.deepcopy(Line(self.start, self.end))"
   ]
  },
  {
   "attachments": {},
   "cell_type": "markdown",
   "metadata": {},
   "source": [
    "# Adapter Coding Exercise"
   ]
  },
  {
   "cell_type": "code",
   "execution_count": 9,
   "metadata": {},
   "outputs": [
    {
     "data": {
      "text/plain": [
       "100"
      ]
     },
     "execution_count": 9,
     "metadata": {},
     "output_type": "execute_result"
    }
   ],
   "source": [
    "class Square:\n",
    "    def __init__(self, side=0):\n",
    "        self.side = side\n",
    "\n",
    "def calculate_area(rc):\n",
    "    return rc.width * rc.height\n",
    "\n",
    "class SquareToRectangleAdapter():\n",
    "    def __init__(self, square):\n",
    "        self.width = square.side\n",
    "        self.height = square.side\n",
    "        \n",
    "\n",
    "    \n",
    "square = Square(10)\n",
    "rectangle = SquareToRectangleAdapter(square)\n",
    "calculate_area(rectangle)"
   ]
  },
  {
   "attachments": {},
   "cell_type": "markdown",
   "metadata": {},
   "source": [
    "# Bridge Coding Exercise"
   ]
  },
  {
   "cell_type": "code",
   "execution_count": 24,
   "metadata": {},
   "outputs": [
    {
     "data": {
      "text/plain": [
       "'Drawing pixels for circle of radius'"
      ]
     },
     "execution_count": 24,
     "metadata": {},
     "output_type": "execute_result"
    }
   ],
   "source": [
    "# class Shape:\n",
    "#     def __init__(self):\n",
    "#         self.name = None\n",
    "#\n",
    "#\n",
    "# class Triangle(Shape):\n",
    "#     def __init__(self):\n",
    "#         super().__init__()\n",
    "#         self.name = 'Triangle'\n",
    "#\n",
    "#\n",
    "# class Square(Shape):\n",
    "#     def __init__(self):\n",
    "#         super().__init__()\n",
    "#         self.name = 'Square'\n",
    "#\n",
    "#\n",
    "# class VectorSquare(Square):\n",
    "#     def __str__(self):\n",
    "#         return f'Drawing {self.name} as lines'\n",
    "#\n",
    "#\n",
    "# class RasterSquare(Square):\n",
    "#     def __str__(self):\n",
    "#         return f'Drawing {self.name} as pixels'\n",
    "\n",
    "# imagine VectorTriangle and RasterTriangle are here too\n",
    "\n",
    "from abc import ABC\n",
    "class Renderer(ABC):\n",
    "    @property\n",
    "    def what_to_render_as(self):\n",
    "        return None\n",
    "\n",
    "class Shape:\n",
    "    def __init__(self, renderer):\n",
    "        self.renderer = renderer\n",
    "\n",
    "class VectorRenderer(Renderer):\n",
    "    def render_circle(self,):\n",
    "        return 'Drawing a circle as lines'\n",
    "    def render_triangle(self,):\n",
    "        return 'Drawing a circle as lines'\n",
    "    def render_square(self):\n",
    "        return 'Drawing Square as lines'\n",
    "\n",
    "class RasterRenderer(Renderer):\n",
    "    def render_circle(self):\n",
    "        return 'Drawing Circle as pixels'\n",
    "    def render_triangle(self):\n",
    "        return 'Drawing Triangle as pixels'\n",
    "    def render_square(self):\n",
    "        return 'Drawing Square as pixels'\n",
    "\n",
    "class Circle(Shape):\n",
    "    def __init__(self, renderer):\n",
    "        super().__init__(renderer)\n",
    "    def __str__(self):\n",
    "        return self.renderer.render_circle()\n",
    "    \n",
    "class Triangle(Shape):\n",
    "    def __init__(self, renderer):\n",
    "        super().__init__(renderer)\n",
    "    def __str__(self):\n",
    "        return self.renderer.render_triangle()\n",
    "    \n",
    "class Square(Shape):\n",
    "    def __init__(self, renderer):\n",
    "        super().__init__(renderer)\n",
    "    def __str__(self):\n",
    "        return self.renderer.render_square()"
   ]
  },
  {
   "attachments": {},
   "cell_type": "markdown",
   "metadata": {},
   "source": [
    "# Decorator Coding Exercise"
   ]
  },
  {
   "cell_type": "code",
   "execution_count": 23,
   "metadata": {},
   "outputs": [
    {
     "name": "stdout",
     "output_type": "stream",
     "text": [
      "A square with side 2 has the color blue\n"
     ]
    }
   ],
   "source": [
    "class Circle:\n",
    "  def __init__(self, radius):\n",
    "    self.radius = radius\n",
    "\n",
    "  def resize(self, factor):\n",
    "    self.radius *= factor\n",
    "\n",
    "  def __str__(self):\n",
    "    return \"A circle of radius {}\".format(self.radius)\n",
    "    \n",
    "\n",
    "class Square:\n",
    "  def __init__(self, side):\n",
    "    self.side = side\n",
    "\n",
    "  def __str__(self):\n",
    "    return \"A square with side {}\".format(self.side)\n",
    "   \n",
    "\n",
    "class ColoredShape:\n",
    "  def __init__(self, shape, color):\n",
    "    self.color = color\n",
    "    self.shape = shape\n",
    "\n",
    "  def resize(self, factor):\n",
    "    if hasattr(self.shape, 'resize'):\n",
    "        self.shape.resize(factor)\n",
    "\n",
    "  def __str__(self):\n",
    "    return \"{} has the color {}\".format(self.shape, self.color)\n",
    "\n",
    "square = ColoredShape(Square(2), 'blue')\n",
    "square.resize(2)\n",
    "\n",
    "circle = ColoredShape(Circle(2), 'blue')\n",
    "circle.resize(2)\n",
    "\n",
    "print(square)"
   ]
  },
  {
   "cell_type": "code",
   "execution_count": 21,
   "metadata": {},
   "outputs": [
    {
     "name": "stdout",
     "output_type": "stream",
     "text": [
      "A square with side 4 has the color blue\n"
     ]
    }
   ],
   "source": [
    "class Circle:\n",
    "  def __init__(self, radius):\n",
    "    self.radius = radius\n",
    "\n",
    "  def resize(self, factor):\n",
    "    self.radius *= factor\n",
    "\n",
    "  def __str__(self):\n",
    "    return 'A circle of radius %s' % self.radius\n",
    "\n",
    "class Square:\n",
    "  def __init__(self, side):\n",
    "    self.side = side\n",
    "\n",
    "  def __str__(self):\n",
    "    return 'A square with side %s' % self.side\n",
    "\n",
    "\n",
    "class ColoredShape:\n",
    "  def __init__(self, shape, color):\n",
    "    self.color = color\n",
    "    self.shape = shape\n",
    "\n",
    "  def resize(self, factor):\n",
    "    r = getattr(self.shape, 'resize', None)\n",
    "    if callable(r):\n",
    "      self.shape.resize(factor)\n",
    "\n",
    "  def __str__(self):\n",
    "    return \"%s has the color %s\" %\\\n",
    "           (self.shape, self.color)\n",
    "\n",
    "circle = ColoredShape(Circle(2), 'blue')\n",
    "circle.resize(2)\n",
    "print(square)"
   ]
  },
  {
   "attachments": {},
   "cell_type": "markdown",
   "metadata": {},
   "source": [
    "# Façade Coding Exercise"
   ]
  },
  {
   "cell_type": "code",
   "execution_count": 120,
   "metadata": {},
   "outputs": [],
   "source": [
    "from random import randint\n",
    "\n",
    "class Generator:\n",
    "  def generate(self, count):\n",
    "    return [randint(1,9) for x in range(count)]\n",
    "\n",
    "class Splitter:\n",
    "  def split(self, array):\n",
    "    result = []\n",
    "\n",
    "    row_count = len(array)\n",
    "    col_count = len(array[0])\n",
    "\n",
    "    for r in range(row_count):\n",
    "      the_row = []\n",
    "      for c in range(col_count):\n",
    "        the_row.append(array[r][c])\n",
    "      result.append(the_row)\n",
    "\n",
    "    for c in range(col_count):\n",
    "      the_col = []\n",
    "      for r in range(row_count):\n",
    "        the_col.append(array[r][c])\n",
    "      result.append(the_col)\n",
    "\n",
    "    diag1 = []\n",
    "    diag2 = []\n",
    "\n",
    "    for c in range(col_count):\n",
    "      for r in range(row_count):\n",
    "        if c == r:\n",
    "          diag1.append(array[r][c])\n",
    "        r2 = row_count - r - 1\n",
    "        if c == r2:\n",
    "          diag2.append(array[r][c])\n",
    "\n",
    "    result.append(diag1)\n",
    "    result.append(diag2)\n",
    "\n",
    "    return result\n",
    "\n",
    "class Verifier:\n",
    "  def verify(self, arrays):\n",
    "    first = sum(arrays[0])\n",
    "\n",
    "    for i in range(1, len(arrays)):\n",
    "      if sum(arrays[i]) != first:\n",
    "        return False\n",
    "\n",
    "    return True\n",
    "\n",
    "class MagicSquareGenerator:\n",
    "    \n",
    "  def generate(self, size):  \n",
    "    \n",
    "    verified = False\n",
    "    while not verified:\n",
    "        matrix = []\n",
    "        for i in range(size):\n",
    "          magic_list = Generator().generate(size)\n",
    "          matrix.append(magic_list)\n",
    "        splitter = Splitter().split(matrix)\n",
    "        verified = Verifier().verify(splitter)\n",
    "        \n",
    "    return(matrix)\n",
    "         \n",
    "        \n",
    "magic = MagicSquareGenerator()\n",
    "magic_list = magic.generate(3)"
   ]
  },
  {
   "attachments": {},
   "cell_type": "markdown",
   "metadata": {},
   "source": [
    "# Flyweight Coding Exercise"
   ]
  },
  {
   "cell_type": "code",
   "execution_count": 204,
   "metadata": {},
   "outputs": [
    {
     "name": "stdout",
     "output_type": "stream",
     "text": [
      "hello WORLD\n"
     ]
    }
   ],
   "source": [
    "class Sentence:\n",
    "    def __init__(self, plain_text, capitalize = False):\n",
    "        self.sentence = plain_text\n",
    "        self.list_words = plain_text.split(' ')\n",
    "        self.range = []\n",
    "    \n",
    "    class TextRange:\n",
    "        def __init__(self, index, capitalize = False):\n",
    "            self.index_to_capitalize = index\n",
    "            self.capitalize = capitalize\n",
    "              \n",
    "    def __getitem__(self, index):\n",
    "        self.range = self.TextRange(index)\n",
    "        return self.range\n",
    "    \n",
    "    def __str__(self):\n",
    "        if self.range.capitalize:\n",
    "            self.list_words[self.range.index_to_capitalize] = self.list_words[self.range.index_to_capitalize].upper()\n",
    "        return ' '.join(self.list_words)\n",
    "    \n",
    "\n",
    "         \n",
    "sentence = Sentence('hello world')\n",
    "sentence[1].capitalize = True\n",
    "print(sentence)\n",
    "\n",
    "\n",
    "        "
   ]
  },
  {
   "cell_type": "markdown",
   "metadata": {},
   "source": [
    "# Proxy Coding Exercise\n",
    "\n",
    "You are given the Person  class and asked to write a ResponsiblePerson  proxy that does the following:\n",
    "\n",
    "- Allows person to drink unless they are younger than 18 (in that case, return \"too young\")\n",
    "\n",
    "- Allows person to drive unless they are younger than 16 (otherwise, \"too young\")\n",
    "\n",
    "- In case of driving while drink, returns \"dead\", regardless of age"
   ]
  },
  {
   "cell_type": "code",
   "execution_count": 8,
   "metadata": {},
   "outputs": [
    {
     "data": {
      "text/plain": [
       "'driving'"
      ]
     },
     "execution_count": 8,
     "metadata": {},
     "output_type": "execute_result"
    }
   ],
   "source": [
    "class Person:\n",
    "  def __init__(self, age):\n",
    "    self.age = age\n",
    "\n",
    "  def drink(self):\n",
    "    return 'drinking'\n",
    "\n",
    "  def drive(self):\n",
    "    return 'driving'\n",
    "\n",
    "  def drink_and_drive(self):\n",
    "    return 'driving while drunk'\n",
    "\n",
    "class ResponsiblePerson:\n",
    "  def __init__(self, person):\n",
    "    self.person = person\n",
    "  \n",
    "  @property\n",
    "  def age(self):\n",
    "    return self.person.age\n",
    "\n",
    "  @age.setter\n",
    "  def age(self, value):\n",
    "    self.person.age = value\n",
    "    \n",
    "  def drink(self):\n",
    "    if self.person.age < 18:\n",
    "        return 'too young'\n",
    "    return 'drinking'\n",
    "\n",
    "  def drive(self):\n",
    "    if self.person.age < 16:\n",
    "        return 'too young'\n",
    "    return 'driving'\n",
    "\n",
    "  def drink_and_drive(self):\n",
    "    return 'dead'\n",
    "\n",
    "responsible_person = ResponsiblePerson(Person(16))\n",
    "responsible_person.drive()"
   ]
  },
  {
   "cell_type": "markdown",
   "metadata": {},
   "source": [
    "# Chain of Responsibility Coding Exercise\n",
    "You are given a game scenario with classes Goblin and GoblinKing. Please implement the following rules:\n",
    "\n",
    "- A goblin has base 1 attack/1 defense (1/1), a goblin king is 3/3.\n",
    "\n",
    "- When the Goblin King is in play, every other goblin gets +1 Attack.\n",
    "\n",
    "- Goblins get +1 to Defense for every other Goblin in play (a GoblinKing is a Goblin!).\n",
    "\n",
    "Example:\n",
    "\n",
    "- Suppose you have 3 ordinary goblins in play. Each one is a 1/3 (1/1 + 0/2 defense bonus).\n",
    "- A goblin king comes into play. Now every goblin is a 2/4 (1/1 + 0/3 defense bonus from each other + 1/0 from goblin king)\n",
    "\n",
    "The state of all the goblins has to be consistent as goblins are added and removed from the game.\n",
    "\n",
    "Here is an example of the kind of test that will be run on the system:\n",
    "\n",
    "Note: creature removal (unsubscription) does not need to be implemented."
   ]
  },
  {
   "cell_type": "code",
   "execution_count": null,
   "metadata": {},
   "outputs": [],
   "source": [
    "from abc import ABC\n",
    "from enum import Enum\n",
    "\n",
    "# creature removal (unsubscription) ignored in this exercise solution\n",
    "\n",
    "class Creature(ABC):\n",
    "    def __init__(self, game, attack, defense):\n",
    "        self.initial_defense = defense\n",
    "        self.initial_attack = attack\n",
    "        self.game = game\n",
    "\n",
    "    @property\n",
    "    def attack(self): pass\n",
    "\n",
    "    @property\n",
    "    def defense(self): pass\n",
    "\n",
    "    def query(self, source, query): pass\n",
    "\n",
    "\n",
    "class WhatToQuery(Enum):\n",
    "    ATTACK = 1\n",
    "    DEFENSE = 2\n",
    "\n",
    "\n",
    "class Goblin(Creature):\n",
    "\n",
    "    def __init__(self, game, attack=1, defense=1):\n",
    "        super().__init__(game, attack, defense)\n",
    "\n",
    "    @property\n",
    "    def attack(self):\n",
    "        q = Query(self.initial_attack, WhatToQuery.ATTACK)\n",
    "        for c in self.game.creatures:\n",
    "            c.query(self, q)\n",
    "        return q.value\n",
    "\n",
    "    @property\n",
    "    def defense(self):\n",
    "        q = Query(self.initial_defense, WhatToQuery.DEFENSE)\n",
    "        for c in self.game.creatures:\n",
    "            c.query(self, q)\n",
    "        return q.value\n",
    "\n",
    "    def query(self, source, query):\n",
    "        if self != source and query.what_to_query == WhatToQuery.DEFENSE:\n",
    "            query.value += 1\n",
    "\n",
    "\n",
    "class GoblinKing(Goblin):\n",
    "\n",
    "    def __init__(self, game):\n",
    "        super().__init__(game, 3, 3)\n",
    "\n",
    "    def query(self, source, query):\n",
    "        if self != source and query.what_to_query == WhatToQuery.ATTACK:\n",
    "            query.value += 1\n",
    "        else:\n",
    "            super().query(source, query)\n",
    "\n",
    "\n",
    "class Query:\n",
    "    def __init__(self, initial_value, what_to_query):\n",
    "        self.what_to_query = what_to_query\n",
    "        self.value = initial_value\n",
    "\n",
    "class Game:\n",
    "    def __init__(self):\n",
    "        self.creatures = []"
   ]
  },
  {
   "cell_type": "code",
   "execution_count": null,
   "metadata": {},
   "outputs": [],
   "source": []
  }
 ],
 "metadata": {
  "kernelspec": {
   "display_name": "Python 3",
   "language": "python",
   "name": "python3"
  },
  "language_info": {
   "codemirror_mode": {
    "name": "ipython",
    "version": 3
   },
   "file_extension": ".py",
   "mimetype": "text/x-python",
   "name": "python",
   "nbconvert_exporter": "python",
   "pygments_lexer": "ipython3",
   "version": "3.9.7"
  },
  "orig_nbformat": 4,
  "vscode": {
   "interpreter": {
    "hash": "193207bfd2f8c05d8d2854906ed3e9720e4dbde3a97e3cde79263ed702959eb1"
   }
  }
 },
 "nbformat": 4,
 "nbformat_minor": 2
}
